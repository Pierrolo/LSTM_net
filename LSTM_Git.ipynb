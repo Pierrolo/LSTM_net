{
 "cells": [
  {
   "cell_type": "code",
   "execution_count": 1,
   "metadata": {},
   "outputs": [
    {
     "data": {
      "text/html": [
       "<div id=\"my_id_menu_nb\">run previous cell, wait for 2 seconds</div>\n",
       "<script>\n",
       "function repeat_indent_string(n){\n",
       "    var a = \"\" ;\n",
       "    for ( ; n > 0 ; --n) {\n",
       "        a += \"    \";\n",
       "    }\n",
       "    return a;\n",
       "}\n",
       "var update_menu_string = function(begin, lfirst, llast, sformat, send, keep_item) {\n",
       "    var anchors = document.getElementsByClassName(\"section\");\n",
       "    if (anchors.length == 0) {\n",
       "        anchors = document.getElementsByClassName(\"text_cell_render rendered_html\");\n",
       "    }\n",
       "    var i,t;\n",
       "    var text_menu = begin;\n",
       "    var text_memo = \"<pre>\\nlength:\" + anchors.length + \"\\n\";\n",
       "    var ind = \"\";\n",
       "    var memo_level = 1;\n",
       "    var href;\n",
       "    var tags = [];\n",
       "    var main_item = 0;\n",
       "    for (i = 0; i <= llast; i++) {\n",
       "        tags.push(\"h\" + i);\n",
       "    }\n",
       "\n",
       "    for (i = 0; i < anchors.length; i++) {\n",
       "        text_memo += \"**\" + anchors[i].id + \"--\\n\";\n",
       "\n",
       "        var child = null;\n",
       "        for(t = 0; t < tags.length; t++) {\n",
       "            var r = anchors[i].getElementsByTagName(tags[t]);\n",
       "            if (r.length > 0) {\n",
       "child = r[0];\n",
       "break;\n",
       "            }\n",
       "        }\n",
       "        if (child == null){\n",
       "            text_memo += \"null\\n\";\n",
       "            continue;\n",
       "        }\n",
       "        if (anchors[i].hasAttribute(\"id\")) {\n",
       "            // when converted in RST\n",
       "            href = anchors[i].id;\n",
       "            text_memo += \"#1-\" + href;\n",
       "            // passer à child suivant (le chercher)\n",
       "        }\n",
       "        else if (child.hasAttribute(\"id\")) {\n",
       "            // in a notebook\n",
       "            href = child.id;\n",
       "            text_memo += \"#2-\" + href;\n",
       "        }\n",
       "        else {\n",
       "            text_memo += \"#3-\" + \"*\" + \"\\n\";\n",
       "            continue;\n",
       "        }\n",
       "        var title = child.textContent;\n",
       "        var level = parseInt(child.tagName.substring(1,2));\n",
       "\n",
       "        text_memo += \"--\" + level + \"?\" + lfirst + \"--\" + title + \"\\n\";\n",
       "\n",
       "        if ((level < lfirst) || (level > llast)) {\n",
       "            continue ;\n",
       "        }\n",
       "        if (title.endsWith('¶')) {\n",
       "            title = title.substring(0,title.length-1).replace(\"<\", \"&lt;\").replace(\">\", \"&gt;\").replace(\"&\", \"&amp;\")\n",
       "        }\n",
       "\n",
       "        if (title.length == 0) {\n",
       "            continue;\n",
       "        }\n",
       "\n",
       "        while (level < memo_level) {\n",
       "            text_menu += \"</ul>\\n\";\n",
       "            memo_level -= 1;\n",
       "        }\n",
       "        if (level == lfirst) {\n",
       "            main_item += 1;\n",
       "        }\n",
       "        if (keep_item != -1 && main_item != keep_item + 1) {\n",
       "            // alert(main_item + \" - \" + level + \" - \" + keep_item);\n",
       "            continue;\n",
       "        }\n",
       "        while (level > memo_level) {\n",
       "            text_menu += \"<ul>\\n\";\n",
       "            memo_level += 1;\n",
       "        }\n",
       "        text_menu += repeat_indent_string(level-2) + sformat.replace(\"__HREF__\", href).replace(\"__TITLE__\", title);\n",
       "    }\n",
       "    while (1 < memo_level) {\n",
       "        text_menu += \"</ul>\\n\";\n",
       "        memo_level -= 1;\n",
       "    }\n",
       "    text_menu += send;\n",
       "    //text_menu += \"\\n\" + text_memo;\n",
       "    return text_menu;\n",
       "};\n",
       "var update_menu = function() {\n",
       "    var sbegin = \"\";\n",
       "    var sformat = '<li><a href=\"#__HREF__\">__TITLE__</a></li>';\n",
       "    var send = \"\";\n",
       "    var keep_item = -1;\n",
       "    var text_menu = update_menu_string(sbegin, 2, 4, sformat, send, keep_item);\n",
       "    var menu = document.getElementById(\"my_id_menu_nb\");\n",
       "    menu.innerHTML=text_menu;\n",
       "};\n",
       "window.setTimeout(update_menu,2000);\n",
       "            </script>"
      ],
      "text/plain": [
       "<IPython.core.display.HTML object>"
      ]
     },
     "execution_count": 1,
     "metadata": {},
     "output_type": "execute_result"
    }
   ],
   "source": [
    "from jyquickhelper import add_notebook_menu\n",
    "add_notebook_menu()"
   ]
  },
  {
   "cell_type": "markdown",
   "metadata": {},
   "source": [
    "## Packages"
   ]
  },
  {
   "cell_type": "code",
   "execution_count": 2,
   "metadata": {
    "collapsed": true
   },
   "outputs": [],
   "source": [
    "import jyquickhelper\n",
    "import pandas as pd\n",
    "import matplotlib as plt\n",
    "import urllib.request\n",
    "import sklearn\n",
    "import math\n",
    "import matplotlib.pyplot as plt\n",
    "import numpy as np\n",
    "from datetime import datetime\n",
    "from sklearn import datasets, linear_model\n",
    "from sklearn.metrics import mean_squared_error, r2_score\n",
    "from matplotlib.backends.backend_pdf import PdfPages\n",
    "import seaborn as sns\n",
    "from openpyxl import load_workbook\n",
    "pd.set_option(\"display.max_columns\",200)"
   ]
  },
  {
   "cell_type": "markdown",
   "metadata": {},
   "source": [
    "## Dataset"
   ]
  },
  {
   "cell_type": "markdown",
   "metadata": {},
   "source": [
    "### BeautifulSoup"
   ]
  },
  {
   "cell_type": "markdown",
   "metadata": {},
   "source": [
    "#### Learning the basics"
   ]
  },
  {
   "cell_type": "markdown",
   "metadata": {},
   "source": [
    "##### from the wiki page \"list of US presidents\" we're gonna get the names of every US president (in chronological order with that)\n",
    "\n",
    "##### from that list we're gonna get all the text of all the US president's wiki pages"
   ]
  },
  {
   "cell_type": "code",
   "execution_count": 8,
   "metadata": {},
   "outputs": [],
   "source": [
    "import urllib\n",
    "import bs4\n",
    "url=\"https://en.wikipedia.org/wiki/List_of_Presidents_of_the_United_States\"\n",
    "beautiful=urllib.request.urlopen(url).read()\n",
    "#beautiful\n",
    "## get the full html code"
   ]
  },
  {
   "cell_type": "code",
   "execution_count": 9,
   "metadata": {
    "collapsed": true
   },
   "outputs": [],
   "source": [
    "soup=bs4.BeautifulSoup(beautiful,\"lxml\")\n",
    "## create a PARSE TREE, useful to navigate throught the code"
   ]
  },
  {
   "cell_type": "code",
   "execution_count": 11,
   "metadata": {},
   "outputs": [
    {
     "name": "stdout",
     "output_type": "stream",
     "text": [
      "<h1 class=\"firstHeading\" id=\"firstHeading\" lang=\"en\">\n",
      " List of Presidents of the United States\n",
      "</h1>\n",
      "\n"
     ]
    }
   ],
   "source": [
    "print(soup.h1.prettify()) ## make the tree readable (we only select h1, otherwise: too big to print)"
   ]
  },
  {
   "cell_type": "code",
   "execution_count": 12,
   "metadata": {},
   "outputs": [
    {
     "name": "stdout",
     "output_type": "stream",
     "text": [
      "<h1 class=\"firstHeading\" id=\"firstHeading\" lang=\"en\">List of Presidents of the United States</h1>\n",
      "['List of Presidents of the United States']\n",
      "List of Presidents of the United States\n",
      " \n",
      "P\n"
     ]
    }
   ],
   "source": [
    "print(soup.h1) ## get the first h1 class\n",
    "print(soup.h1.contents)  ## get the h1 class content in list form\n",
    "print(soup.h1.contents[0]) ## get the h1 class content in list form\n",
    "print(soup.h1.contents[0][4]) ## since it's list, we take the 4th letter like so\n",
    "print(soup.h1.contents[0][8])"
   ]
  },
  {
   "cell_type": "code",
   "execution_count": 13,
   "metadata": {},
   "outputs": [
    {
     "name": "stdout",
     "output_type": "stream",
     "text": [
      "<a href=\"/wiki/William_Henry_Harrison\" title=\"William Henry Harrison\">William Henry Harrison</a>\n",
      "['William Henry Harrison']\n",
      "i\n"
     ]
    }
   ],
   "source": [
    "soup.find_all('p') ## find all the <p>...</p>\n",
    "soup.find_all('p')[6] ## take the 7th one, correpond to the first intro paragraph in this wiki\n",
    "soup.find_all('p')[6].contents ## get the content inside the <p>...</p>, includes the <b>...</b>\n",
    "print(soup.find_all('p')[6].contents[0]) ## take the first one, \n",
    "                                         ## it's a parse tree thing so the first one is delimited by the first \"clause\"\n",
    "print(list(soup.find_all('p')[6].contents[0])) ## turns the first into a list\n",
    "print(list(soup.find_all('p')[6].contents[0])[0][1]) ## take the 2nd letter"
   ]
  },
  {
   "cell_type": "code",
   "execution_count": 14,
   "metadata": {
    "scrolled": true
   },
   "outputs": [
    {
     "data": {
      "text/plain": [
       "'W'"
      ]
     },
     "execution_count": 14,
     "metadata": {},
     "output_type": "execute_result"
    }
   ],
   "source": [
    "list(soup.find_all('p')[6].contents[0])[0][0]"
   ]
  },
  {
   "cell_type": "markdown",
   "metadata": {},
   "source": [
    "#### Use it"
   ]
  },
  {
   "cell_type": "markdown",
   "metadata": {},
   "source": [
    "##### we extract the names of all the US president, from Washington to Trump"
   ]
  },
  {
   "cell_type": "code",
   "execution_count": 15,
   "metadata": {
    "collapsed": true
   },
   "outputs": [],
   "source": [
    "from bs4 import BeautifulSoup\n",
    "url = \"https://en.wikipedia.org/wiki/List_of_Presidents_of_the_United_States\"\n",
    "response = urllib.request.urlopen(url)\n",
    "html = response.read()\n",
    "soup = BeautifulSoup(html, 'html.parser')"
   ]
  },
  {
   "cell_type": "code",
   "execution_count": 16,
   "metadata": {},
   "outputs": [
    {
     "name": "stdout",
     "output_type": "stream",
     "text": [
      "['George Washington', 'John Adams', 'Thomas Jefferson', 'James Madison', 'James Monroe', 'John Quincy Adams', 'Andrew Jackson', 'Martin Van Buren', 'William Henry Harrison', 'John Tyler', 'James K. Polk', 'Zachary Taylor', 'Millard Fillmore', 'Franklin Pierce', 'James Buchanan', 'Abraham Lincoln', 'Andrew Johnson', 'Ulysses S. Grant', 'Rutherford B. Hayes', 'James A. Garfield', 'Chester A. Arthur', 'Grover Cleveland', 'Benjamin Harrison', 'William McKinley', 'Theodore Roosevelt', 'William Howard Taft', 'Woodrow Wilson', 'Warren G. Harding', 'Calvin Coolidge', 'Herbert Hoover', 'Franklin D. Roosevelt', 'Harry S. Truman', 'Dwight D. Eisenhower', 'John F. Kennedy', 'Lyndon B. Johnson', 'Richard Nixon', 'Gerald Ford', 'Jimmy Carter', 'Ronald Reagan', 'George H. W. Bush', 'Bill Clinton', 'George W. Bush', 'Barack Obama', 'Donald Trump']\n"
     ]
    }
   ],
   "source": [
    "pres_list=list()\n",
    "for lel in soup.select('big a'):\n",
    "    pres_list.append(lel.contents[0])\n",
    "del pres_list [23] ## Glover Cleveland is the 22 AND 24th president, so we remove him as the 24th one.\n",
    "print(pres_list)"
   ]
  },
  {
   "cell_type": "code",
   "execution_count": 17,
   "metadata": {},
   "outputs": [
    {
     "data": {
      "text/plain": [
       "44"
      ]
     },
     "execution_count": 17,
     "metadata": {},
     "output_type": "execute_result"
    }
   ],
   "source": [
    "len(pres_list)"
   ]
  },
  {
   "cell_type": "markdown",
   "metadata": {},
   "source": [
    "### Wikipedia API"
   ]
  },
  {
   "cell_type": "markdown",
   "metadata": {},
   "source": [
    "#### Learning the basics"
   ]
  },
  {
   "cell_type": "code",
   "execution_count": 18,
   "metadata": {},
   "outputs": [
    {
     "name": "stdout",
     "output_type": "stream",
     "text": [
      "Dwight David \"Ike\" Eisenhower ( EYE-zən-how-ər) (born David Dwight Eisenhower, October 14, 1890 – March 28, 1969) was an American Army general and statesman who served as the 34th President of the United States from 1953 to 1961. During World War II, he was a five-star general in the United States Army and served as Supreme Commander of the Allied Expeditionary Forces in Europe. He was responsible for planning and supervising the invasion of North Africa in Operation Torch in 1942–43 and the successful invasion of France and Germany in 1944–45 from the Western Front. He was also the first American President to be bound by the 22nd Amendment, which limits the number of times one can be elected to the office of President of the United States.\n",
      "Eisenhower was born in Denison, Texas, and raised in Kansas in a large family of mostly Pennsylvania Dutch ancestry; his parents had a strong religious background. His mother was born a Lutheran, married as a River Brethren, and later became one of Jehovah's Witnesses. Eisenhower did not belong to any organized church until 1952. He cited constant relocation during his military career as one reason. He graduated from West Point in 1915 and later married Mamie Doud, with whom he had two sons. During World War I, he was denied a request to serve in Europe and instead commanded a unit that trained tank crews. Following the war, he served under various generals and was promoted to the rank of brigadier general in 1941. After the U.S. entered World War II, Eisenhower oversaw the successful invasions of North Africa and Sicily before supervising the invasions of France and Germany. After the war, Eisenhower served as Army Chief of Staff and then took on the uncomfortable role as president of Columbia University. In 1951–52, he served as the first Supreme Commander of NATO.\n",
      "In 1952, Eisenhower entered the presidential race as a Republican in order to block the foreign policies of Senator Robert A. Taft. He won that election and the 1956 election in landslides, both times defeating Adlai Stevenson II. He became the first Republican elected President since 1928. Eisenhower's main goals in office were to contain the expansion of the Soviet Union and reduce federal deficits. In 1953, he threatened the use of nuclear weapons until China agreed to terms regarding POWs in the Korean War. An armistice ended the stalemated conflict. His New Look policy of nuclear deterrence prioritized inexpensive nuclear weapons while reducing funding for expensive Army divisions. He continued Harry S. Truman's policy of recognizing the Republic of China as the legitimate government of China, and he won congressional approval of the Formosa Resolution. His administration provided major aid to help the French fight off Vietnamese Communists in the First Indochina War. After the French left he gave strong financial support to the new state of South Vietnam. He supported local military coups against governments in Iran and Guatemala. During the Suez Crisis of 1956, Eisenhower condemned the Israeli, British and French invasion of Egypt, and he forced them to withdraw. He also condemned the Soviet invasion during the Hungarian Revolution of 1956 but took no action. During the Syrian Crisis of 1957 he approved a CIA-MI6 plan to stage fake border incidents as an excuse for an invasion by Syria's pro-Western neighbours. After the Soviet Union launched Sputnik in 1957, Eisenhower authorized the establishment of NASA, which led to the Space Race. He deployed 15,000 soldiers during the 1958 Lebanon crisis. Near the end of his term, his efforts to set up a summit meeting with the Soviets collapsed when an American spy plane was shot down over Russia. He approved the Bay of Pigs invasion, which was left to his successor to carry out.\n",
      "On the domestic front, Eisenhower was a moderate conservative who continued New Deal agencies and expanded Social Security. He covertly opposed Joseph McCarthy and contributed to the end of McCarthyism by openly invoking executive privilege. Eisenhower signed the Civil Rights Act of 1957 and sent Army troops to enforce federal court orders that integrated schools in Little Rock, Arkansas. His largest program was the Interstate Highway System. He promoted the establishment of strong science education via the National Defense Education Act. Eisenhower's two terms saw widespread economic prosperity except for a minor recession in 1958. In his farewell address to the nation, Eisenhower expressed his concerns about the dangers of massive military spending, particularly deficit spending and government contracts to private military manufacturers. He was voted Gallup's most admired man twelve times and also achieved widespread popular esteem both in and out of office. Since the late 20th century, consensus among Western scholars has consistently held Eisenhower as one of the greatest U.S. Presidents. \n",
      "\n",
      "['Barack Obama', 'Barack Obama Sr.', 'Family of Barack Obama', 'Barack (disambiguation)', 'Barack (brandy)', \"Confirmations of Barack Obama's Cabinet\", 'Barack Obama religion conspiracy theories', 'List of things named after Barack Obama', 'List of international presidential trips made by Barack Obama', 'Barack Obama Day']\n"
     ]
    }
   ],
   "source": [
    "import wikipedia\n",
    "print (wikipedia.summary(\"Dwight D. Eisenhower\"),\"\\n\") \n",
    "print(wikipedia.search(\"Barack\"))\n"
   ]
  },
  {
   "cell_type": "code",
   "execution_count": 19,
   "metadata": {
    "collapsed": true
   },
   "outputs": [],
   "source": [
    "ny = wikipedia.page(\"New York (state)\")"
   ]
  },
  {
   "cell_type": "code",
   "execution_count": 22,
   "metadata": {
    "scrolled": false
   },
   "outputs": [
    {
     "name": "stdout",
     "output_type": "stream",
     "text": [
      "New York (state) \n",
      "\n",
      "https://en.wikipedia.org/wiki/New_York_(state) \n",
      "\n",
      "1790 United States Census \n",
      "\n"
     ]
    }
   ],
   "source": [
    "print(ny.title, \"\\n\")\n",
    "print(ny.url, \"\\n\")\n",
    "#print(ny.content, \"\\n\")\n",
    "print(ny.links[0], \"\\n\")"
   ]
  },
  {
   "cell_type": "markdown",
   "metadata": {},
   "source": [
    "#### Use it"
   ]
  },
  {
   "cell_type": "markdown",
   "metadata": {
    "collapsed": true
   },
   "source": [
    "##### from the list of US presidents we created before, we get the list of wikipedia pages for each of them"
   ]
  },
  {
   "cell_type": "code",
   "execution_count": 23,
   "metadata": {
    "scrolled": false
   },
   "outputs": [
    {
     "name": "stdout",
     "output_type": "stream",
     "text": [
      "George Washington \t \t \t \t True\n",
      "John Adams \t \t \t \t True\n",
      "Thomas Jefferson \t \t \t \t True\n",
      "James Madison \t \t \t \t True\n",
      "James Monroe \t \t \t \t True\n",
      "John Quincy Adams \t \t \t \t True\n",
      "Andrew Jackson \t \t \t \t True\n",
      "Martin Van Buren \t \t \t \t True\n",
      "William Henry Harrison \t \t \t \t True\n",
      "John Tyler \t \t \t \t True\n",
      "James K. Polk \t \t \t \t True\n",
      "Zachary Taylor \t \t \t \t True\n",
      "Millard Fillmore \t \t \t \t True\n",
      "Franklin Pierce \t \t \t \t True\n",
      "James Buchanan \t \t \t \t True\n",
      "Abraham Lincoln \t \t \t \t True\n",
      "Andrew Johnson \t \t \t \t True\n",
      "Ulysses S. Grant \t \t \t \t True\n",
      "Rutherford B. Hayes \t \t \t \t True\n",
      "James A. Garfield \t \t \t \t True\n",
      "Chester A. Arthur \t \t \t \t True\n",
      "Grover Cleveland \t \t \t \t True\n",
      "Benjamin Harrison \t \t \t \t True\n",
      "William McKinley \t \t \t \t True\n",
      "Theodore Roosevelt \t \t \t \t True\n",
      "William Howard Taft \t \t \t \t True\n",
      "Woodrow Wilson \t \t \t \t True\n",
      "Warren G. Harding \t \t \t \t True\n",
      "Calvin Coolidge \t \t \t \t True\n",
      "Herbert Hoover \t \t \t \t True\n",
      "Franklin D. Roosevelt \t \t \t \t True\n",
      "Harry S. Truman \t \t \t \t True\n",
      "Dwight D. Eisenhower \t \t \t \t True\n",
      "John F. Kennedy \t \t \t \t True\n",
      "Lyndon B. Johnson \t \t \t \t True\n",
      "Richard Nixon \t \t \t \t True\n",
      "Gerald Ford \t \t \t \t True\n",
      "Jimmy Carter \t \t \t \t True\n",
      "Ronald Reagan \t \t \t \t True\n",
      "George H. W. Bush \t \t \t \t True\n",
      "Bill Clinton \t \t \t \t True\n",
      "George W. Bush \t \t \t \t True\n",
      "Barack Obama \t \t \t \t True\n",
      "Donald Trump \t \t \t \t True\n"
     ]
    },
    {
     "data": {
      "text/plain": [
       "{'Abraham Lincoln': <WikipediaPage 'Abraham Lincoln'>,\n",
       " 'Andrew Jackson': <WikipediaPage 'Andrew Jackson'>,\n",
       " 'Andrew Johnson': <WikipediaPage 'Andrew Johnson'>,\n",
       " 'Barack Obama': <WikipediaPage 'Barack Obama'>,\n",
       " 'Benjamin Harrison': <WikipediaPage 'Benjamin Harrison'>,\n",
       " 'Bill Clinton': <WikipediaPage 'Bill Clinton'>,\n",
       " 'Calvin Coolidge': <WikipediaPage 'Calvin Coolidge'>,\n",
       " 'Chester A. Arthur': <WikipediaPage 'Chester A. Arthur'>,\n",
       " 'Donald Trump': <WikipediaPage 'Donald Trump'>,\n",
       " 'Dwight D. Eisenhower': <WikipediaPage 'Dwight D. Eisenhower'>,\n",
       " 'Franklin D. Roosevelt': <WikipediaPage 'Franklin D. Roosevelt'>,\n",
       " 'Franklin Pierce': <WikipediaPage 'Franklin Pierce'>,\n",
       " 'George H. W. Bush': <WikipediaPage 'George H. W. Bush'>,\n",
       " 'George W. Bush': <WikipediaPage 'George W. Bush'>,\n",
       " 'George Washington': <WikipediaPage 'George Washington'>,\n",
       " 'Gerald Ford': <WikipediaPage 'Gerald Ford'>,\n",
       " 'Grover Cleveland': <WikipediaPage 'Grover Cleveland'>,\n",
       " 'Harry S. Truman': <WikipediaPage 'Harry S. Truman'>,\n",
       " 'Herbert Hoover': <WikipediaPage 'Herbert Hoover'>,\n",
       " 'James A. Garfield': <WikipediaPage 'James A. Garfield'>,\n",
       " 'James Buchanan': <WikipediaPage 'James Buchanan'>,\n",
       " 'James K. Polk': <WikipediaPage 'James K. Polk'>,\n",
       " 'James Madison': <WikipediaPage 'James Madison'>,\n",
       " 'James Monroe': <WikipediaPage 'James Monroe'>,\n",
       " 'Jimmy Carter': <WikipediaPage 'Jimmy Carter'>,\n",
       " 'John Adams': <WikipediaPage 'John Adams'>,\n",
       " 'John F. Kennedy': <WikipediaPage 'John F. Kennedy'>,\n",
       " 'John Quincy Adams': <WikipediaPage 'John Quincy Adams'>,\n",
       " 'John Tyler': <WikipediaPage 'John Tyler'>,\n",
       " 'Lyndon B. Johnson': <WikipediaPage 'Lyndon B. Johnson'>,\n",
       " 'Martin Van Buren': <WikipediaPage 'Martin Van Buren'>,\n",
       " 'Millard Fillmore': <WikipediaPage 'Millard Fillmore'>,\n",
       " 'Richard Nixon': <WikipediaPage 'Richard Nixon'>,\n",
       " 'Ronald Reagan': <WikipediaPage 'Ronald Reagan'>,\n",
       " 'Rutherford B. Hayes': <WikipediaPage 'Rutherford B. Hayes'>,\n",
       " 'Theodore Roosevelt': <WikipediaPage 'Theodore Roosevelt'>,\n",
       " 'Thomas Jefferson': <WikipediaPage 'Thomas Jefferson'>,\n",
       " 'Ulysses S. Grant': <WikipediaPage 'Ulysses S. Grant'>,\n",
       " 'Warren G. Harding': <WikipediaPage 'Warren G. Harding'>,\n",
       " 'William Henry Harrison': <WikipediaPage 'William Henry Harrison'>,\n",
       " 'William Howard Taft': <WikipediaPage 'William Howard Taft'>,\n",
       " 'William McKinley': <WikipediaPage 'William McKinley'>,\n",
       " 'Woodrow Wilson': <WikipediaPage 'Woodrow Wilson'>,\n",
       " 'Zachary Taylor': <WikipediaPage 'Zachary Taylor'>}"
      ]
     },
     "execution_count": 23,
     "metadata": {},
     "output_type": "execute_result"
    }
   ],
   "source": [
    "import wikipedia\n",
    "ddd=dict()\n",
    "for pres in pres_list:\n",
    "    print(wikipedia.page(pres).title,\"\\t \\t \\t \\t\",wikipedia.page(pres).title==pres)\n",
    "    ddd[pres]=wikipedia.page(pres, preload=True)\n",
    "ddd"
   ]
  },
  {
   "cell_type": "code",
   "execution_count": 24,
   "metadata": {},
   "outputs": [
    {
     "name": "stdout",
     "output_type": "stream",
     "text": [
      "Donald Trump \t \t \t \t True\n"
     ]
    }
   ],
   "source": [
    "print(wikipedia.page(pres).title,\"\\t \\t \\t \\t\",wikipedia.page(pres).title==pres)"
   ]
  },
  {
   "cell_type": "markdown",
   "metadata": {
    "collapsed": true
   },
   "source": [
    "## Network"
   ]
  },
  {
   "cell_type": "code",
   "execution_count": 25,
   "metadata": {
    "collapsed": true
   },
   "outputs": [],
   "source": [
    "import tensorflow as tf\n",
    "import string"
   ]
  },
  {
   "cell_type": "code",
   "execution_count": 26,
   "metadata": {},
   "outputs": [
    {
     "name": "stdout",
     "output_type": "stream",
     "text": [
      "Unexpected character: ï\n",
      "97 122 32 10 0\n",
      "} h 9\n",
      "Unexpected character: \u0000\n",
      "a \n",
      " 0\n"
     ]
    }
   ],
   "source": [
    "vocabulary_size = len(string.printable) + 1 # [a-z] + ' '\n",
    "first_letter = ord(string.printable[0])\n",
    "\n",
    "def char2id(char):\n",
    "    if char in string.printable:\n",
    "        return ord(char)# - first_letter + 1\n",
    "    else:\n",
    "        print('Unexpected character: %s' % char)\n",
    "        return 0\n",
    "\n",
    "def id2char(dictid):\n",
    "    if dictid !=0 :\n",
    "        return chr(dictid)# + first_letter - 1)\n",
    "    else :\n",
    "        return '\\x00'\n",
    "    \n",
    "print(char2id('a'), char2id('z'), char2id(' '), char2id('\\n'), char2id('ï'))\n",
    "print(id2char(125), id2char(104), id2char(57))\n",
    "print(id2char(char2id('a')),id2char(char2id('\\n')),char2id(id2char(0)))"
   ]
  },
  {
   "cell_type": "code",
   "execution_count": 27,
   "metadata": {},
   "outputs": [
    {
     "name": "stdout",
     "output_type": "stream",
     "text": [
      "Unexpected character: \u0000\n"
     ]
    },
    {
     "data": {
      "text/plain": [
       "'\\x00'"
      ]
     },
     "execution_count": 27,
     "metadata": {},
     "output_type": "execute_result"
    }
   ],
   "source": [
    "id2char(char2id('\\x00'))"
   ]
  },
  {
   "cell_type": "code",
   "execution_count": 28,
   "metadata": {
    "collapsed": true
   },
   "outputs": [],
   "source": [
    "dd=ddd[\"Andrew Jackson\"]"
   ]
  },
  {
   "cell_type": "code",
   "execution_count": 29,
   "metadata": {
    "scrolled": false
   },
   "outputs": [
    {
     "name": "stdout",
     "output_type": "stream",
     "text": [
      "Unexpected character: –\n",
      "Unexpected character: –\n"
     ]
    },
    {
     "data": {
      "text/plain": [
       "(746, 746, 2987, 2987)"
      ]
     },
     "execution_count": 29,
     "metadata": {},
     "output_type": "execute_result"
    }
   ],
   "source": [
    "tt=[]\n",
    "for i in dd.summary:\n",
    "    tt.append(char2id(i)) ## we use numbers to feed the net\n",
    "X=tt[1:len(tt)]\n",
    "y=tt[0:len(tt)-1]\n",
    "## train test split (no cross validation here, for now):\n",
    "test_share=0.20\n",
    "X_train=X[0:int((1-test_share)*(len(X)))];y_train=y[0:int((1-test_share)*(len(X)))]\n",
    "X_test=X[int((1-test_share)*(len(X))):len(X)-1];y_test=y[int((1-test_share)*(len(X))):len(X)-1]\n",
    "\n",
    "len(X_test),len(y_test),len(X_train),len(y_train)"
   ]
  },
  {
   "cell_type": "code",
   "execution_count": 30,
   "metadata": {
    "collapsed": true
   },
   "outputs": [],
   "source": [
    "num_nodes = 64\n",
    "batch_size=32\n",
    "num_unrollings=20\n",
    "\n",
    "graph = tf.Graph()\n",
    "with graph.as_default():\n",
    "    \n",
    "    # Input gate: input, previous output, and bias.\n",
    "    ix = tf.Variable(tf.truncated_normal(shape=[vocabulary_size, num_nodes],mean= -0.1,stddev= 0.1)) #input\n",
    "    im = tf.Variable(tf.truncated_normal([num_nodes, num_nodes], -0.1, 0.1)) #output\n",
    "    ib = tf.Variable(tf.zeros([1, num_nodes])) #bias\n",
    "    # Forget gate: input, previous output, and bias.\n",
    "    fx = tf.Variable(tf.truncated_normal([vocabulary_size, num_nodes], -0.1, 0.1))\n",
    "    fm = tf.Variable(tf.truncated_normal([num_nodes, num_nodes], -0.1, 0.1))\n",
    "    fb = tf.Variable(tf.zeros([1, num_nodes]))\n",
    "    # Memory cell: input, state and bias.                             \n",
    "    cx = tf.Variable(tf.truncated_normal([vocabulary_size, num_nodes], -0.1, 0.1))\n",
    "    cm = tf.Variable(tf.truncated_normal([num_nodes, num_nodes], -0.1, 0.1))\n",
    "    cb = tf.Variable(tf.zeros([1, num_nodes]))\n",
    "    # Output gate: input, previous output, and bias.\n",
    "    ox = tf.Variable(tf.truncated_normal([vocabulary_size, num_nodes], -0.1, 0.1))\n",
    "    om = tf.Variable(tf.truncated_normal([num_nodes, num_nodes], -0.1, 0.1))\n",
    "    ob = tf.Variable(tf.zeros([1, num_nodes]))\n",
    "    # Variables saving state across unrollings.\n",
    "    saved_output = tf.Variable(tf.zeros([batch_size, num_nodes]), trainable=False)\n",
    "    saved_state = tf.Variable(tf.zeros([batch_size, num_nodes]), trainable=False)\n",
    "    # Classifier weights and biases.\n",
    "    w = tf.Variable(tf.truncated_normal([num_nodes, vocabulary_size], -0.1, 0.1))\n",
    "    b = tf.Variable(tf.zeros([vocabulary_size]))\n",
    "    \n",
    "    # Definition of the cell computation.\n",
    "    def lstm_cell(i, o, state):\n",
    "        \"\"\"Create a LSTM cell. See e.g.: http://arxiv.org/pdf/1402.1128v1.pdf\n",
    "        Note that in this formulation, we omit the various connections between the\n",
    "        previous state and the gates.\"\"\"\n",
    "        input_gate = tf.sigmoid(tf.matmul(i, ix) + tf.matmul(o, im) + ib)\n",
    "        forget_gate = tf.sigmoid(tf.matmul(i, fx) + tf.matmul(o, fm) + fb)\n",
    "        update = tf.matmul(i, cx) + tf.matmul(o, cm) + cb\n",
    "        state = forget_gate * state + input_gate * tf.tanh(update)\n",
    "        output_gate = tf.sigmoid(tf.matmul(i, ox) + tf.matmul(o, om) + ob)\n",
    "        return output_gate * tf.tanh(state), state\n",
    "\n",
    "      # Input data.\n",
    "    train_data = list()\n",
    "    for _ in range(num_unrollings + 1):\n",
    "        train_data.append(\n",
    "            tf.placeholder(tf.float32, shape=[batch_size,vocabulary_size]))\n",
    "        train_inputs = train_data[:num_unrollings]\n",
    "        train_labels = train_data[1:]  # labels are inputs shifted by one time step.\n",
    "\n",
    "      # Unrolled LSTM loop.\n",
    "    outputs = list()\n",
    "    output = saved_output\n",
    "    state = saved_state\n",
    "    for i in train_inputs:\n",
    "        output, state = lstm_cell(i, output, state)\n",
    "        outputs.append(output)\n",
    "\n",
    "    # State saving across unrollings.\n",
    "    with tf.control_dependencies([saved_output.assign(output),\n",
    "                                  saved_state.assign(state)]):\n",
    "      # Classifier.\n",
    "        logits = tf.nn.xw_plus_b(tf.concat(outputs, 0), w, b)\n",
    "        loss = tf.reduce_mean(\n",
    "        tf.nn.softmax_cross_entropy_with_logits(\n",
    "          labels=tf.concat(train_labels, 0), logits=logits))\n",
    "\n",
    "    # Optimizer.\n",
    "    global_step = tf.Variable(0)\n",
    "    learning_rate = tf.train.exponential_decay(\n",
    "      10.0, global_step, 5000, 0.1, staircase=True)\n",
    "    optimizer = tf.train.GradientDescentOptimizer(learning_rate)\n",
    "    gradients, v = zip(*optimizer.compute_gradients(loss))\n",
    "    gradients, _ = tf.clip_by_global_norm(gradients, 1.25)\n",
    "    optimizer = optimizer.apply_gradients(\n",
    "      zip(gradients, v), global_step=global_step)\n",
    "\n",
    "    # Predictions.\n",
    "    train_prediction = tf.nn.softmax(logits)\n",
    "\n",
    "    # Sampling and validation eval: batch 1, no unrolling.\n",
    "    sample_input = tf.placeholder(tf.float32, shape=[1, vocabulary_size])\n",
    "    saved_sample_output = tf.Variable(tf.zeros([1, num_nodes]))\n",
    "    saved_sample_state = tf.Variable(tf.zeros([1, num_nodes]))\n",
    "    reset_sample_state = tf.group(\n",
    "      saved_sample_output.assign(tf.zeros([1, num_nodes])),\n",
    "      saved_sample_state.assign(tf.zeros([1, num_nodes])))\n",
    "    sample_output, sample_state = lstm_cell(\n",
    "      sample_input, saved_sample_output, saved_sample_state)\n",
    "    with tf.control_dependencies([saved_sample_output.assign(sample_output),\n",
    "                                  saved_sample_state.assign(sample_state)]):\n",
    "        sample_prediction = tf.nn.softmax(tf.nn.xw_plus_b(sample_output, w, b))"
   ]
  },
  {
   "cell_type": "code",
   "execution_count": 31,
   "metadata": {
    "scrolled": true
   },
   "outputs": [
    {
     "data": {
      "text/plain": [
       "(TensorShape([Dimension(101), Dimension(64)]),\n",
       " TensorShape([Dimension(64), Dimension(64)]),\n",
       " TensorShape([Dimension(32), Dimension(64)]),\n",
       " TensorShape([Dimension(32), Dimension(64)]),\n",
       " TensorShape([Dimension(640), Dimension(101)]),\n",
       " TensorShape([Dimension(640), Dimension(64)]),\n",
       " TensorShape([Dimension(64), Dimension(101)]),\n",
       " TensorShape([Dimension(640), Dimension(101)]))"
      ]
     },
     "execution_count": 31,
     "metadata": {},
     "output_type": "execute_result"
    }
   ],
   "source": [
    "ix.shape,im.shape,output.shape, state.shape, logits.shape, tf.concat(outputs, 0).shape, w.shape,tf.concat(train_labels, 0).shape"
   ]
  },
  {
   "cell_type": "code",
   "execution_count": 32,
   "metadata": {},
   "outputs": [
    {
     "data": {
      "text/plain": [
       "<tf.Tensor 'mul_5:0' shape=(32, 64) dtype=float32>"
      ]
     },
     "execution_count": 32,
     "metadata": {},
     "output_type": "execute_result"
    }
   ],
   "source": [
    "outputs[1]"
   ]
  },
  {
   "cell_type": "code",
   "execution_count": 33,
   "metadata": {},
   "outputs": [
    {
     "data": {
      "text/plain": [
       "<tf.Tensor 'Placeholder_19:0' shape=(32, 101) dtype=float32>"
      ]
     },
     "execution_count": 33,
     "metadata": {},
     "output_type": "execute_result"
    }
   ],
   "source": [
    "i"
   ]
  },
  {
   "cell_type": "code",
   "execution_count": null,
   "metadata": {
    "collapsed": true
   },
   "outputs": [],
   "source": []
  },
  {
   "cell_type": "code",
   "execution_count": null,
   "metadata": {
    "collapsed": true
   },
   "outputs": [],
   "source": []
  },
  {
   "cell_type": "code",
   "execution_count": null,
   "metadata": {
    "collapsed": true
   },
   "outputs": [],
   "source": []
  },
  {
   "cell_type": "code",
   "execution_count": null,
   "metadata": {
    "collapsed": true
   },
   "outputs": [],
   "source": []
  }
 ],
 "metadata": {
  "kernelspec": {
   "display_name": "Python 3",
   "language": "python",
   "name": "python3"
  },
  "language_info": {
   "codemirror_mode": {
    "name": "ipython",
    "version": 3
   },
   "file_extension": ".py",
   "mimetype": "text/x-python",
   "name": "python",
   "nbconvert_exporter": "python",
   "pygments_lexer": "ipython3",
   "version": "3.6.1"
  }
 },
 "nbformat": 4,
 "nbformat_minor": 2
}
